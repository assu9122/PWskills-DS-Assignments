{
 "cells": [
  {
   "cell_type": "markdown",
   "id": "3bd8f298-cacb-4ed4-a3e7-9488daf29071",
   "metadata": {},
   "source": [
    "Q1. How do you comment code in Python? What are the different types of comments?\n"
   ]
  },
  {
   "cell_type": "markdown",
   "id": "665603f0-90bf-4095-afd2-137b13b261af",
   "metadata": {},
   "source": [
    "Answer:\n"
   ]
  },
  {
   "cell_type": "markdown",
   "id": "ddab06a8-3c2f-4e4e-8d66-429f29a660aa",
   "metadata": {},
   "source": [
    "we can comment code in python by using # in the begining of the statement.\\\n",
    "there are two types of comments:\\\n",
    "single-line comment\\\n",
    "multi-line comment\n"
   ]
  },
  {
   "cell_type": "markdown",
   "id": "1f8f51ca-12bc-49d0-a878-6b76ede7aa16",
   "metadata": {},
   "source": [
    "example:\n",
    "1.single line comment=    "
   ]
  },
  {
   "cell_type": "code",
   "execution_count": null,
   "id": "5689ec8c-76b5-498e-9426-5d2d2aa5b9b7",
   "metadata": {},
   "outputs": [],
   "source": [
    "#example of single line comment"
   ]
  },
  {
   "cell_type": "markdown",
   "id": "9bb8b313-3115-4bad-9bf1-b28810f401c6",
   "metadata": {},
   "source": [
    "example: 2. multi line comment="
   ]
  },
  {
   "cell_type": "code",
   "execution_count": 12,
   "id": "f42922bf-15bb-4807-91e0-2596623c966a",
   "metadata": {},
   "outputs": [],
   "source": [
    "#example of\n",
    "#multi line comment\n",
    "#example of multi line comment"
   ]
  },
  {
   "cell_type": "markdown",
   "id": "39a086c6-4e31-4c29-9ef4-30f564a9ac8e",
   "metadata": {},
   "source": [
    "Q2. What are variables in Python? How do you declare and assign values to variables?"
   ]
  },
  {
   "cell_type": "markdown",
   "id": "0320c4ff-ce5e-4c98-8bdc-796ee37835eb",
   "metadata": {},
   "source": [
    "Answer"
   ]
  },
  {
   "cell_type": "markdown",
   "id": "b167d95c-a546-4c89-b33f-608e39225a6a",
   "metadata": {},
   "source": [
    "variables are words that are used to store values of any data type.\\\n",
    "we can use '=' operator to assign values to the variable.\n",
    "\n"
   ]
  },
  {
   "cell_type": "code",
   "execution_count": 13,
   "id": "88c29eb7-2e39-4e45-bb7a-ecb5cf2ad6b5",
   "metadata": {},
   "outputs": [
    {
     "data": {
      "text/plain": [
       "4"
      ]
     },
     "execution_count": 13,
     "metadata": {},
     "output_type": "execute_result"
    }
   ],
   "source": [
    "var= 4\n",
    "var"
   ]
  },
  {
   "cell_type": "markdown",
   "id": "66d17183-da75-4870-a0b2-a0a7e0497ef7",
   "metadata": {},
   "source": [
    "Q3. How do you convert one data type to another in Python?"
   ]
  },
  {
   "cell_type": "markdown",
   "id": "194fd61a-6bba-4fa6-b6ed-50aea7740ff7",
   "metadata": {},
   "source": [
    "we can change the data type of a variable in Python through datatype conversion.\\\n",
    "for example, an integer can be converted into a string, allowing it to be appended to another string.\n",
    "There are two different methods used to convert data types in python:\\\n",
    "Implicit type conversion   \n",
    "Explicit type conversion"
   ]
  },
  {
   "cell_type": "markdown",
   "id": "1e8e341b-2559-43f9-bc22-2e1c03af939e",
   "metadata": {},
   "source": [
    "Q4. How do you write and execute a Python script from the command line?"
   ]
  },
  {
   "cell_type": "markdown",
   "id": "de0cc7df-2916-4e65-be57-ed7d97bbdfc5",
   "metadata": {},
   "source": [
    "Answer"
   ]
  },
  {
   "cell_type": "markdown",
   "id": "96eeca71-a985-462e-8f59-71756f12d6e3",
   "metadata": {},
   "source": [
    "write command 'python' and execute, this will transform the command window into python shell. and to execute we can press enter."
   ]
  },
  {
   "cell_type": "markdown",
   "id": "291e41bc-c782-4542-b3a3-623a06e98f28",
   "metadata": {},
   "source": [
    "Q5. Given a list my_list = [1, 2, 3, 4, 5], write the code to slice the list and obtain the sub-list [2, 3]."
   ]
  },
  {
   "cell_type": "markdown",
   "id": "253aca52-6c97-4e89-98bc-9c6d7cb6d0ac",
   "metadata": {},
   "source": [
    "Answer:"
   ]
  },
  {
   "cell_type": "code",
   "execution_count": 3,
   "id": "f8393f47-42c3-4ac7-a504-1f62fc5b73d7",
   "metadata": {},
   "outputs": [],
   "source": [
    "my_list=[1,2,3,4,5]"
   ]
  },
  {
   "cell_type": "code",
   "execution_count": 4,
   "id": "bc5f1660-6b98-422f-8c53-96d78334a5a3",
   "metadata": {},
   "outputs": [
    {
     "data": {
      "text/plain": [
       "[1, 2, 3, 4, 5]"
      ]
     },
     "execution_count": 4,
     "metadata": {},
     "output_type": "execute_result"
    }
   ],
   "source": [
    "my_list"
   ]
  },
  {
   "cell_type": "code",
   "execution_count": 8,
   "id": "cefc5a61-1266-416a-a73d-1999a7b7faee",
   "metadata": {},
   "outputs": [
    {
     "data": {
      "text/plain": [
       "[2, 3]"
      ]
     },
     "execution_count": 8,
     "metadata": {},
     "output_type": "execute_result"
    }
   ],
   "source": [
    "my_list[1:3]"
   ]
  },
  {
   "cell_type": "markdown",
   "id": "f4f8a883-ecd4-4093-b39d-cf159171a38d",
   "metadata": {},
   "source": [
    "Q6. What is a complex number in mathematics, and how is it represented in Python?"
   ]
  },
  {
   "cell_type": "markdown",
   "id": "6fd3cb2b-efc6-4587-956e-c7fe818e1651",
   "metadata": {},
   "source": [
    "Answer:"
   ]
  },
  {
   "cell_type": "markdown",
   "id": "f6edb4a1-55b8-4ddb-8e86-56b6b9a9722d",
   "metadata": {},
   "source": [
    "Complex numbers are basically the combination of real and imaginary numbers.In mathematics,the imaginary number is denoted by i.\n",
    "The complex data type in python consists of two values, the first one is the real part of the complex number, and the second one is the imaginary part of the complex number.In python we always denote the imaginary part with j. "
   ]
  },
  {
   "cell_type": "code",
   "execution_count": 11,
   "id": "243a5928-73cc-4a99-a249-29375cc59fff",
   "metadata": {},
   "outputs": [
    {
     "data": {
      "text/plain": [
       "complex"
      ]
     },
     "execution_count": 11,
     "metadata": {},
     "output_type": "execute_result"
    }
   ],
   "source": [
    "#example\n",
    "c= 4+5j\n",
    "type(c)"
   ]
  },
  {
   "cell_type": "markdown",
   "id": "e9ddff8d-e747-414d-9445-8f5003c0e3b1",
   "metadata": {},
   "source": [
    "Q7. What is the correct way to declare a variable named age and assign the value 25 to it?"
   ]
  },
  {
   "cell_type": "markdown",
   "id": "615cb736-392b-4ef0-a5f5-a7ef81c42211",
   "metadata": {},
   "source": [
    "Answer:\n",
    "    "
   ]
  },
  {
   "cell_type": "markdown",
   "id": "859b6d42-9928-4ae8-80cc-cbb08f0115fa",
   "metadata": {},
   "source": [
    "The correct way to declare a variable and assign the value is:\\\n",
    "Name the variable and then assign an integer value to it"
   ]
  },
  {
   "cell_type": "code",
   "execution_count": 16,
   "id": "8f208c6b-7076-469a-b838-e2b4ce8a0e39",
   "metadata": {},
   "outputs": [
    {
     "data": {
      "text/plain": [
       "25"
      ]
     },
     "execution_count": 16,
     "metadata": {},
     "output_type": "execute_result"
    }
   ],
   "source": [
    "#example\n",
    "age=int(25)\n",
    "age"
   ]
  },
  {
   "cell_type": "markdown",
   "id": "80c67417-cf18-406b-ba6e-d4e9b71da003",
   "metadata": {},
   "source": [
    "Q8. Declare a variable named price and assign the value 9.99 to it. What data type does this variable\n",
    "belong to?"
   ]
  },
  {
   "cell_type": "markdown",
   "id": "fbc7c69e-42ac-432b-93bc-93f77cb21432",
   "metadata": {},
   "source": [
    "Answer:"
   ]
  },
  {
   "cell_type": "code",
   "execution_count": 17,
   "id": "32f08794-4831-42f7-a379-a7525cd436f5",
   "metadata": {},
   "outputs": [
    {
     "data": {
      "text/plain": [
       "float"
      ]
     },
     "execution_count": 17,
     "metadata": {},
     "output_type": "execute_result"
    }
   ],
   "source": [
    "price=9.99\n",
    "type(price)"
   ]
  },
  {
   "cell_type": "markdown",
   "id": "7d68e7ba-c748-49e4-9c07-baca46053a0a",
   "metadata": {},
   "source": [
    "Q9. Create a variable named name and assign your full name to it as a string. How would you print the\n",
    "value of this variable?"
   ]
  },
  {
   "cell_type": "code",
   "execution_count": 20,
   "id": "7822e49f-5a0f-47af-8114-1ec24f8d4b34",
   "metadata": {},
   "outputs": [
    {
     "data": {
      "text/plain": [
       "'Aastha Gupta'"
      ]
     },
     "execution_count": 20,
     "metadata": {},
     "output_type": "execute_result"
    }
   ],
   "source": [
    "name='Aastha Gupta'\n",
    "name"
   ]
  },
  {
   "cell_type": "markdown",
   "id": "e1c89b32-a84e-4ce3-b152-e2a201956d50",
   "metadata": {},
   "source": [
    "Q10. Given the string \"Hello, World!\", extract the substring \"World\"."
   ]
  },
  {
   "cell_type": "markdown",
   "id": "2404ebde-7ab1-4b61-9e4e-1b471b990f1e",
   "metadata": {},
   "source": [
    "Answer:"
   ]
  },
  {
   "cell_type": "code",
   "execution_count": 25,
   "id": "4e81c90d-614d-45c3-a95a-269bf888ee75",
   "metadata": {},
   "outputs": [],
   "source": [
    "string='Hello,World!'"
   ]
  },
  {
   "cell_type": "code",
   "execution_count": 27,
   "id": "81b70c71-028d-4479-9ce4-d5e619b2caed",
   "metadata": {},
   "outputs": [
    {
     "data": {
      "text/plain": [
       "'World'"
      ]
     },
     "execution_count": 27,
     "metadata": {},
     "output_type": "execute_result"
    }
   ],
   "source": [
    "string[6:11]"
   ]
  },
  {
   "cell_type": "markdown",
   "id": "9c522639-8fb5-4a11-92ca-cd112d871b21",
   "metadata": {},
   "source": [
    "Q11. Create a variable named \"is_student\" and assign it a boolean value indicating whether you are\n",
    "currently a student or not."
   ]
  },
  {
   "cell_type": "markdown",
   "id": "0211911a-30fd-4e69-8702-d5a45e8cc5d3",
   "metadata": {},
   "source": [
    "Answer:"
   ]
  },
  {
   "cell_type": "code",
   "execution_count": 36,
   "id": "f3d7cc3a-614a-4b54-86a9-ac158b14463e",
   "metadata": {},
   "outputs": [
    {
     "name": "stdout",
     "output_type": "stream",
     "text": [
      "currently a student\n"
     ]
    }
   ],
   "source": [
    "is_student == True\n",
    "print('currently a student')\n"
   ]
  },
  {
   "cell_type": "code",
   "execution_count": null,
   "id": "eca30c03-950a-474b-8085-a7f1489a7186",
   "metadata": {},
   "outputs": [],
   "source": []
  }
 ],
 "metadata": {
  "kernelspec": {
   "display_name": "Python 3 (ipykernel)",
   "language": "python",
   "name": "python3"
  },
  "language_info": {
   "codemirror_mode": {
    "name": "ipython",
    "version": 3
   },
   "file_extension": ".py",
   "mimetype": "text/x-python",
   "name": "python",
   "nbconvert_exporter": "python",
   "pygments_lexer": "ipython3",
   "version": "3.10.8"
  }
 },
 "nbformat": 4,
 "nbformat_minor": 5
}
