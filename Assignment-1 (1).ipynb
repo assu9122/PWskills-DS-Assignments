{
 "cells": [
  {
   "cell_type": "markdown",
   "id": "4dd0c675-b051-437f-9404-a0149ebfbc61",
   "metadata": {},
   "source": [
    "Q1.Create one variable containing following type of data:\n",
    "(i) string \n",
    "(ii) list\n",
    "(iii) float\n",
    "(iv) tuple"
   ]
  },
  {
   "cell_type": "markdown",
   "id": "d7ffc953-2d53-4624-98ac-171e6fce720d",
   "metadata": {},
   "source": [
    "Answer:"
   ]
  },
  {
   "cell_type": "code",
   "execution_count": 1,
   "id": "22d0fe80-1455-4e7b-a92a-7e694eb495a3",
   "metadata": {},
   "outputs": [
    {
     "data": {
      "text/plain": [
       "(str, list, float, tuple)"
      ]
     },
     "execution_count": 1,
     "metadata": {},
     "output_type": "execute_result"
    }
   ],
   "source": [
    "a='data'\n",
    "b=[20,56,'data','science','true',34.9,3.6]\n",
    "c=2.5\n",
    "d=('data',56)\n",
    "type(a),type(b),type(c),type(d)"
   ]
  },
  {
   "cell_type": "markdown",
   "id": "4873f83b-1edd-4861-aa0b-514a6d92f1dd",
   "metadata": {},
   "source": [
    "2. Given are some following variables containing data:\n",
    "(i) var1 = ‘ ‘\n",
    "(ii) var2 = ‘[ DS , ML , Python]’\n",
    "(iii) var3 = [ ‘DS’ , ’ML’ , ‘Python’ ]\n",
    "(iv) var4 = 1.\n",
    "What will be the data type of the above given variable."
   ]
  },
  {
   "cell_type": "markdown",
   "id": "aba543b9-6180-497a-a3a5-c62a1304784f",
   "metadata": {},
   "source": [
    "Answer:"
   ]
  },
  {
   "cell_type": "code",
   "execution_count": 2,
   "id": "4c03be28-113a-42db-b7a6-6f1d4c9035d8",
   "metadata": {},
   "outputs": [
    {
     "data": {
      "text/plain": [
       "(str, str, list, float)"
      ]
     },
     "execution_count": 2,
     "metadata": {},
     "output_type": "execute_result"
    }
   ],
   "source": [
    "var1=''\n",
    "var2='[DS,ML,PYTHON]'\n",
    "var3=['DS','ML','PYTHON']\n",
    "var4=1.\n",
    "type(var1),type(var2),type(var3),type(var4)"
   ]
  },
  {
   "cell_type": "markdown",
   "id": "15fd67e7-8290-4ce9-8480-64ae601ff0fe",
   "metadata": {},
   "source": [
    "Q3. Explain the use of the following operators using an example:\n",
    "(i) /\n",
    "(ii) %\n",
    "(iii) //\n",
    "(iv) **"
   ]
  },
  {
   "cell_type": "markdown",
   "id": "ec2d485a-b8f1-48d1-b326-d725e03557e5",
   "metadata": {},
   "source": [
    "\n",
    "Answer:"
   ]
  },
  {
   "cell_type": "markdown",
   "id": "fa7dbb10-4b6a-4ed5-aae0-6b1b5dd30b5e",
   "metadata": {},
   "source": [
    "(i) \"/\" is a operator which is used to divide left hand operand from right hand operand.\n",
    "(ii)\"%\" is a operator which is used to divide left hand operand from light hand operand and gives the remainder.\n",
    "(iii)\"//\" is a operator which is used to perform division and gives only integer quotient. It is also called floor division.\n",
    "(iv)\" ** \" is a operator which is used to perform exponential (power) calculation on operators. It is also called exponent operator."
   ]
  },
  {
   "cell_type": "markdown",
   "id": "562eca03-77ea-41e9-ad02-bfc649a33161",
   "metadata": {},
   "source": [
    "Examples:"
   ]
  },
  {
   "cell_type": "code",
   "execution_count": 13,
   "id": "09854b29-ebbc-46c2-af20-62d294c486b1",
   "metadata": {},
   "outputs": [
    {
     "name": "stdout",
     "output_type": "stream",
     "text": [
      "4.0\n",
      "0\n",
      "4\n",
      "64\n"
     ]
    }
   ],
   "source": [
    "a=8\n",
    "b=2\n",
    "p=a/b\n",
    "print(p)\n",
    "q=a%b\n",
    "print(q)\n",
    "r=a//b\n",
    "print(r)\n",
    "s=a**b\n",
    "print(s)"
   ]
  },
  {
   "cell_type": "markdown",
   "id": "865eccdc-868c-4793-b5ee-7dc1504e1ed1",
   "metadata": {},
   "source": [
    "Q4. Create a list of length 10 of your choice containing multiple types of data. Using for loop print the\n",
    "element and its data type."
   ]
  },
  {
   "cell_type": "markdown",
   "id": "f7a94a34-180b-40dd-943c-3a7d1c219d4a",
   "metadata": {},
   "source": [
    "Answer:"
   ]
  },
  {
   "cell_type": "code",
   "execution_count": 18,
   "id": "ec2286b1-c3eb-4c37-ada6-e2e3c9714382",
   "metadata": {},
   "outputs": [
    {
     "name": "stdout",
     "output_type": "stream",
     "text": [
      "6 <class 'int'>\n",
      "9 <class 'int'>\n",
      "data <class 'str'>\n",
      "true <class 'str'>\n",
      "6.9 <class 'float'>\n",
      "damn <class 'str'>\n",
      "3 <class 'int'>\n",
      "4567 <class 'int'>\n",
      "45.222 <class 'float'>\n",
      "False <class 'bool'>\n"
     ]
    }
   ],
   "source": [
    "l=[6,9,'data',\"true\",6.9,'damn',3,4567,45.222,False]\n",
    "for i in l:\n",
    "    print(i,type(i))"
   ]
  },
  {
   "cell_type": "markdown",
   "id": "ef778189-4d17-479e-af89-a7e711192721",
   "metadata": {},
   "source": [
    "Q5. Using a while loop, verify if the number A is purely divisible by number B and if so then how many\n",
    "times it can be divisible."
   ]
  },
  {
   "cell_type": "markdown",
   "id": "fd5b5577-211e-4cad-98c4-5c5b0c4d12d5",
   "metadata": {},
   "source": [
    "Answer:"
   ]
  },
  {
   "cell_type": "code",
   "execution_count": 20,
   "id": "0192e2d6-131c-4d17-b22c-9b38e09cce55",
   "metadata": {},
   "outputs": [
    {
     "name": "stdin",
     "output_type": "stream",
     "text": [
      "Enter 1st number= 56\n",
      "Enter 2nd number= 6\n"
     ]
    },
    {
     "name": "stdout",
     "output_type": "stream",
     "text": [
      "not purely divisible\n"
     ]
    }
   ],
   "source": [
    "a=int(input('Enter 1st number='))\n",
    "b=int(input('Enter 2nd number='))\n",
    "c=0\n",
    "while a%b==0:\n",
    "    c=c+1\n",
    "    a=a/b\n",
    "if c>0:\n",
    "    print(c)\n",
    "else:\n",
    "    print('not purely divisible')\n"
   ]
  },
  {
   "cell_type": "markdown",
   "id": "a3be33af-0ad9-4ad9-b170-62249133c437",
   "metadata": {},
   "source": [
    "Q6. Create a list containing 25 int type data. Using for loop and if-else condition print if the element is\n",
    "divisible by 3 or not."
   ]
  },
  {
   "cell_type": "markdown",
   "id": "244730ef-4584-4278-b271-dde9d9b4ad34",
   "metadata": {},
   "source": [
    "Answer:"
   ]
  },
  {
   "cell_type": "code",
   "execution_count": 34,
   "id": "896c9ac3-f2f0-43b8-a2b1-a29357f011c4",
   "metadata": {},
   "outputs": [
    {
     "name": "stdout",
     "output_type": "stream",
     "text": [
      "3\n",
      "6\n",
      "9\n",
      "12\n",
      "15\n",
      "15\n",
      "18\n",
      "21\n",
      "24\n"
     ]
    }
   ],
   "source": [
    "l=[1,2,3,4,5,6,7,8,9,10,11,12,13,14,15,15,16,17,18,19,20,21,22,23,24,25]\n",
    "for i in range(25):\n",
    "    a=l[i]\n",
    "    if a%3==0:\n",
    "        print(a)\n",
    "    else:\n",
    "        continue\n",
    "\n",
    "    "
   ]
  },
  {
   "cell_type": "markdown",
   "id": "6b5b3510-b974-4607-aa39-f65c6d544ae7",
   "metadata": {},
   "source": [
    "Q7. What do you understand about mutable and immutable data types? Give examples for both showing\n",
    "this property."
   ]
  },
  {
   "cell_type": "markdown",
   "id": "b3859121-d022-4d77-a6fb-9182a97bab40",
   "metadata": {},
   "source": [
    "Answer:"
   ]
  },
  {
   "cell_type": "markdown",
   "id": "039c0963-3d99-4d13-af06-2497ce0131eb",
   "metadata": {},
   "source": [
    "A mutable object can be changed after it is created.\n",
    "an immutable object cannot be changed after it is created."
   ]
  },
  {
   "cell_type": "markdown",
   "id": "462712f4-2d6c-49c3-80bc-75fa0fd422d0",
   "metadata": {},
   "source": [
    "Example of mutable data type: lists dictionaries & sets"
   ]
  },
  {
   "cell_type": "markdown",
   "id": "63c11e6f-65ba-4c5d-bc1d-42a7d2ba149e",
   "metadata": {},
   "source": [
    "Example of immutable data type: strings & tuples"
   ]
  },
  {
   "cell_type": "code",
   "execution_count": null,
   "id": "edc18d38-c344-4ac8-b06d-6537886cff49",
   "metadata": {},
   "outputs": [],
   "source": []
  }
 ],
 "metadata": {
  "kernelspec": {
   "display_name": "Python 3 (ipykernel)",
   "language": "python",
   "name": "python3"
  },
  "language_info": {
   "codemirror_mode": {
    "name": "ipython",
    "version": 3
   },
   "file_extension": ".py",
   "mimetype": "text/x-python",
   "name": "python",
   "nbconvert_exporter": "python",
   "pygments_lexer": "ipython3",
   "version": "3.10.8"
  }
 },
 "nbformat": 4,
 "nbformat_minor": 5
}
